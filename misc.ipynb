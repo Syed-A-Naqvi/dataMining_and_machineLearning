{
 "cells": [
  {
   "cell_type": "code",
   "execution_count": 26,
   "metadata": {},
   "outputs": [],
   "source": [
    "import itertools as it\n",
    "import math as m\n",
    "\n",
    "def comb(n,k):\n",
    "    return m.factorial(n)/(m.factorial(k)*m.factorial(n-k))"
   ]
  },
  {
   "cell_type": "code",
   "execution_count": 24,
   "metadata": {},
   "outputs": [],
   "source": [
    "items = [\"a\", \"b\", \"c\", \"d\", \"e\", \"f\", \"g\", \"h\"]\n",
    "num_subsets_3 = len([ c for c in it.combinations(items, 3)])\n",
    "\n",
    "def gen_subsets(items):\n",
    "    subsets = []\n",
    "    for i in range(len(items)):\n",
    "        for j in range(i+1, len(items)):\n",
    "            for k in range(j+1, len(items)):\n",
    "                subsets.append((items[i],items[j],items[k]))\n",
    "    return subsets\n",
    "\n",
    "subsets_3 = gen_subsets(items)"
   ]
  },
  {
   "cell_type": "code",
   "execution_count": 28,
   "metadata": {},
   "outputs": [
    {
     "name": "stdout",
     "output_type": "stream",
     "text": [
      "56\n",
      "56\n"
     ]
    },
    {
     "data": {
      "text/plain": [
       "499999500000.0"
      ]
     },
     "execution_count": 28,
     "metadata": {},
     "output_type": "execute_result"
    }
   ],
   "source": [
    "print(num_subsets_3)\n",
    "print(len(subsets_3))\n",
    "\n",
    "comb(1000000,2)"
   ]
  }
 ],
 "metadata": {
  "kernelspec": {
   "display_name": "base",
   "language": "python",
   "name": "python3"
  },
  "language_info": {
   "codemirror_mode": {
    "name": "ipython",
    "version": 3
   },
   "file_extension": ".py",
   "mimetype": "text/x-python",
   "name": "python",
   "nbconvert_exporter": "python",
   "pygments_lexer": "ipython3",
   "version": "3.11.4"
  }
 },
 "nbformat": 4,
 "nbformat_minor": 2
}
