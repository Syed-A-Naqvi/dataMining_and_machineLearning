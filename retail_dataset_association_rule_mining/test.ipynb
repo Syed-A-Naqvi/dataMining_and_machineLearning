{
 "cells": [
  {
   "cell_type": "code",
   "execution_count": 429,
   "metadata": {},
   "outputs": [],
   "source": [
    "import numpy as np\n",
    "import itertools as it\n",
    "from collections import defaultdict"
   ]
  },
  {
   "cell_type": "code",
   "execution_count": 430,
   "metadata": {},
   "outputs": [
    {
     "name": "stdout",
     "output_type": "stream",
     "text": [
      "support threshold = 2\n",
      "confidence threshold = 0.6\n"
     ]
    }
   ],
   "source": [
    "# loading data\n",
    "with open(\"./retail.csv\", 'r') as file:\n",
    "    baskets = file.readlines()\n",
    "\n",
    "# transactions = [[int(item) for item in basket.strip().split(' ')] for basket in baskets]\n",
    "transactions = [[1, 3, 4],\n",
    "                [2, 3, 5],\n",
    "                [1, 2, 3, 5],\n",
    "                [2, 5],\n",
    "                [1, 3, 5]]\n",
    "\n",
    "frequent_sets = []\n",
    "# support = round(0.01*len(transactions))\n",
    "support = 2\n",
    "confidence = 0.60\n",
    "print(f\"support threshold = {support}\")\n",
    "print(f\"confidence threshold = {confidence}\")"
   ]
  },
  {
   "cell_type": "code",
   "execution_count": 431,
   "metadata": {},
   "outputs": [
    {
     "name": "stdout",
     "output_type": "stream",
     "text": [
      "defaultdict(<class 'int'>, {1: 3, 3: 4, 4: 1, 2: 3, 5: 4})\n",
      "There are 5 candidate singletons.\n"
     ]
    }
   ],
   "source": [
    "# Pass 1: recording singleton support in dictionary\n",
    "# This generates C1\n",
    "C1 = defaultdict(int)\n",
    "for basket in transactions:\n",
    "    for item in basket:\n",
    "        C1[item] += 1        \n",
    "\n",
    "print(C1)\n",
    "print(f\"There are {len(C1)} candidate singletons.\")"
   ]
  },
  {
   "cell_type": "code",
   "execution_count": 432,
   "metadata": {},
   "outputs": [
    {
     "name": "stdout",
     "output_type": "stream",
     "text": [
      "defaultdict(<class 'int'>, {1: 3, 3: 4, 2: 3, 5: 4})\n",
      "There are 4 frequent singletons.\n"
     ]
    }
   ],
   "source": [
    "# Pruning C1: removing infrequent singletons from dictionary\n",
    "# this generates L1\n",
    "\n",
    "items = list(C1.keys())\n",
    "\n",
    "# if the item count is less than support, entry is removed from dictionary\n",
    "for item in items:\n",
    "    if C1[item] < support:\n",
    "        del C1[item]\n",
    "L1 = C1\n",
    "print(L1)\n",
    "print(f\"There are {len(L1)} frequent singletons.\")\n",
    "frequent_sets.append(list(L1.keys()))"
   ]
  },
  {
   "cell_type": "code",
   "execution_count": 433,
   "metadata": {},
   "outputs": [
    {
     "name": "stdout",
     "output_type": "stream",
     "text": [
      "{(1, 3): 0, (1, 2): 0, (1, 5): 0, (2, 3): 0, (3, 5): 0, (2, 5): 0}\n",
      "There are 6 candidate item pairs.\n"
     ]
    }
   ],
   "source": [
    "# Will generate candidate item pairs in C2 using singletons in L1\n",
    "\n",
    "pairs = it.combinations(frequent_sets[0],2)\n",
    "\n",
    "C2 = {}\n",
    "for pair in pairs:\n",
    "    pair = tuple(sorted(pair))\n",
    "    C2[pair] = 0\n",
    "\n",
    "print(C2)\n",
    "print(f\"There are {len(C2)} candidate item pairs.\")"
   ]
  },
  {
   "cell_type": "code",
   "execution_count": 434,
   "metadata": {},
   "outputs": [
    {
     "name": "stdout",
     "output_type": "stream",
     "text": [
      "{(1, 3): 3, (1, 2): 1, (1, 5): 2, (2, 3): 2, (3, 5): 3, (2, 5): 3}\n"
     ]
    }
   ],
   "source": [
    "# Pass 2: finding support of all candidate item pairs in C2\n",
    "\n",
    "for basket in transactions:\n",
    "    \n",
    "    for pair in it.combinations(basket,2):\n",
    "        pair = tuple(sorted(pair))\n",
    "        if pair in C2:\n",
    "            C2[pair] += 1\n",
    "print(C2)"
   ]
  },
  {
   "cell_type": "code",
   "execution_count": 435,
   "metadata": {},
   "outputs": [
    {
     "name": "stdout",
     "output_type": "stream",
     "text": [
      "{(1, 3): 3, (1, 5): 2, (2, 3): 2, (3, 5): 3, (2, 5): 3}\n",
      "There are 5 frequent item pairs.\n"
     ]
    }
   ],
   "source": [
    "# Pruning: removing all infrequent item pairs from C2\n",
    "# this will generate L2\n",
    "\n",
    "pairs = list(C2.keys())\n",
    "\n",
    "for pair in pairs:\n",
    "    if C2[pair] < support:\n",
    "        del C2[pair]\n",
    "        \n",
    "L2 = C2\n",
    "print(L2)\n",
    "print(f\"There are {len(L2)} frequent item pairs.\")\n",
    "frequent_sets.append(list(L2.keys()))"
   ]
  },
  {
   "cell_type": "code",
   "execution_count": 436,
   "metadata": {},
   "outputs": [
    {
     "name": "stdout",
     "output_type": "stream",
     "text": [
      "{(1, 2, 3): 0, (1, 2, 5): 0, (1, 3, 5): 0, (2, 3, 5): 0}\n",
      "There are 4 candidate item triples.\n"
     ]
    }
   ],
   "source": [
    "# will use individual items in each pair in L2 to generate candidate item triples\n",
    "# this generates C3\n",
    "\n",
    "# extracting individual items from frequent pairs\n",
    "L2_items = set([item for pair in frequent_sets[1] for item in pair])\n",
    "\n",
    "# creating all possible triples from extracted singletons\n",
    "triples = it.combinations(L2_items, 3)\n",
    "\n",
    "# populating C3 with candidate triples\n",
    "C3 = {}\n",
    "for t in triples:\n",
    "    t = tuple(sorted(t))\n",
    "    C3[t] = 0\n",
    "\n",
    "print(C3)\n",
    "print(f\"There are {len(C3)} candidate item triples.\")"
   ]
  },
  {
   "cell_type": "code",
   "execution_count": 437,
   "metadata": {},
   "outputs": [
    {
     "name": "stdout",
     "output_type": "stream",
     "text": [
      "{(1, 3, 5): 0, (2, 3, 5): 0}\n",
      "There are now 2 candidate item triples after initial pruning.\n"
     ]
    }
   ],
   "source": [
    "# Initial Prune of C3: will remove all triples containing infrequent pairs (pairs not in L2)\n",
    "\n",
    "triples = list(C3.keys())\n",
    "for t in triples:\n",
    "    for p in it.combinations(t, 2):\n",
    "        p = tuple(sorted(p))\n",
    "        if p not in L2:\n",
    "            del C3[t]\n",
    "            break\n",
    "\n",
    "print(C3)\n",
    "print(f\"There are now {len(C3)} candidate item triples after initial pruning.\")\n",
    "    "
   ]
  },
  {
   "cell_type": "code",
   "execution_count": 438,
   "metadata": {},
   "outputs": [
    {
     "name": "stdout",
     "output_type": "stream",
     "text": [
      "{(1, 3, 5): 2, (2, 3, 5): 2}\n"
     ]
    }
   ],
   "source": [
    "# Pass 3: counting support for all triples\n",
    "\n",
    "for basket in transactions:\n",
    "\n",
    "    for t in it.combinations(basket, 3):\n",
    "        t = tuple(sorted(t))\n",
    "        if t in C3:\n",
    "            C3[t] += 1\n",
    "\n",
    "print(C3)"
   ]
  },
  {
   "cell_type": "code",
   "execution_count": 439,
   "metadata": {},
   "outputs": [
    {
     "name": "stdout",
     "output_type": "stream",
     "text": [
      "{(1, 3, 5): 2, (2, 3, 5): 2}\n",
      "There are now 2 candidate item triples after support threshold pruning.\n"
     ]
    }
   ],
   "source": [
    "# Pruning C3 to remove infrequent triples\n",
    "# this generates L3\n",
    "\n",
    "triples = list(C3.keys())\n",
    "\n",
    "for t in triples:\n",
    "    if C3[t] < support:\n",
    "        del C3[t]\n",
    "\n",
    "L3 = C3\n",
    "\n",
    "print(L3)\n",
    "print(f\"There are now {len(L3)} candidate item triples after support threshold pruning.\")\n",
    "frequent_sets.append(list(L3.keys()))"
   ]
  },
  {
   "cell_type": "code",
   "execution_count": 440,
   "metadata": {},
   "outputs": [
    {
     "name": "stdout",
     "output_type": "stream",
     "text": [
      "[[1, 3, 2, 5], [(1, 3), (1, 5), (2, 3), (3, 5), (2, 5)], [(1, 3, 5), (2, 3, 5)]]\n"
     ]
    }
   ],
   "source": [
    "print(frequent_sets)"
   ]
  },
  {
   "cell_type": "code",
   "execution_count": 441,
   "metadata": {},
   "outputs": [
    {
     "name": "stdout",
     "output_type": "stream",
     "text": [
      "[3, 5]\n",
      "[1, 5]\n",
      "[1, 3]\n",
      "[3, 5]\n",
      "[2, 5]\n",
      "[2, 3]\n"
     ]
    }
   ],
   "source": [
    "# generating association rules based on frequent pairs and triples\n",
    "rules = []\n",
    "\n",
    "\n",
    "for p in frequent_sets[1]:\n",
    "    \n",
    "    # confidence of i -> j\n",
    "    conf_i_j = L2[p]/L1[p[0]]\n",
    "    if(conf_i_j >= 0.6):\n",
    "        rules.append(p)\n",
    "    \n",
    "    # confidence of j -> i\n",
    "    conf_j_i = L2[p]/L1[p[1]]\n",
    "    if(conf_i_j >= 0.6):\n",
    "        rules.append((p[1],p[0]))\n",
    "\n",
    "\n",
    "for t in frequent_sets[2]:\n",
    "    \n",
    "    for c in t:\n",
    "        # a,b -> c\n",
    "        a_b = sorted(tuple(set(t) - {c}))\n",
    "        print(a_b)\n",
    "        \n",
    "    \n",
    "    \n",
    "        \n"
   ]
  },
  {
   "cell_type": "code",
   "execution_count": null,
   "metadata": {},
   "outputs": [],
   "source": []
  }
 ],
 "metadata": {
  "kernelspec": {
   "display_name": "base",
   "language": "python",
   "name": "python3"
  },
  "language_info": {
   "codemirror_mode": {
    "name": "ipython",
    "version": 3
   },
   "file_extension": ".py",
   "mimetype": "text/x-python",
   "name": "python",
   "nbconvert_exporter": "python",
   "pygments_lexer": "ipython3",
   "version": "3.11.4"
  }
 },
 "nbformat": 4,
 "nbformat_minor": 2
}
