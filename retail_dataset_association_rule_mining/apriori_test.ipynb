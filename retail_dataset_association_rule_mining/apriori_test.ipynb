{
 "cells": [
  {
   "cell_type": "code",
   "execution_count": null,
   "metadata": {},
   "outputs": [],
   "source": [
    "import itertools as it\n",
    "from collections import defaultdict"
   ]
  },
  {
   "cell_type": "code",
   "execution_count": null,
   "metadata": {},
   "outputs": [],
   "source": [
    "class PrettyFrozenset(frozenset):\n",
    "    def __repr__(self):\n",
    "        return str(list(self))        "
   ]
  },
  {
   "cell_type": "code",
   "execution_count": null,
   "metadata": {},
   "outputs": [],
   "source": [
    "# loading data\n",
    "with open(\"./retail.csv\", 'r') as file:\n",
    "    baskets = file.readlines()\n",
    "\n",
    "transactions = [[int(item) for item in basket.strip().split(' ')] for basket in baskets]\n",
    "# transactions = [[1, 3, 4],\n",
    "#                 [2, 3, 5],\n",
    "#                 [1, 2, 3, 5],\n",
    "#                 [2, 5],\n",
    "#                 [1, 3, 5]]\n",
    "\n",
    "frequent_sets = {}\n",
    "support_threshold = 0 #round(0.01*len(transactions))\n",
    "# support_threshold = 2\n",
    "confidence_threshold = 0.60\n",
    "print(f\"support threshold = {support_threshold}\")\n",
    "print(f\"confidence threshold = {confidence_threshold}\")"
   ]
  },
  {
   "cell_type": "code",
   "execution_count": null,
   "metadata": {},
   "outputs": [],
   "source": [
    "# Pass 1: recording singleton support in dictionary\n",
    "# This generates C1\n",
    "C1 = defaultdict(int)\n",
    "for basket in transactions:\n",
    "    for item in basket:\n",
    "        C1[PrettyFrozenset((item,))] += 1        \n",
    "\n",
    "print(C1)\n",
    "print(f\"There are {len(C1)} candidate singletons.\")"
   ]
  },
  {
   "cell_type": "code",
   "execution_count": null,
   "metadata": {},
   "outputs": [],
   "source": [
    "# Pruning C1: removing infrequent singletons from dictionary\n",
    "# this generates L1\n",
    "\n",
    "items = tuple(C1)\n",
    "\n",
    "# if the item count is less than support, entry is removed from dictionary\n",
    "for item in items:\n",
    "    if C1[item] < support_threshold:\n",
    "        del C1[item]\n",
    "\n",
    "# defining frequent itemset map as L1\n",
    "L1 = C1\n",
    "print(L1)\n",
    "print(f\"There are {len(L1)} frequent singletons.\")\n",
    "# appending list of frequent singletons to frequent_sets\n",
    "frequent_sets.update(L1)"
   ]
  },
  {
   "cell_type": "code",
   "execution_count": null,
   "metadata": {},
   "outputs": [],
   "source": [
    "# Generating candidate item pairs for C2 using singletons in L1\n",
    "frequent_singletons = [i for s in L1 for i in s]\n",
    "pairs = it.combinations(frequent_singletons,2)\n",
    "\n",
    "# initializing C2 with candidates\n",
    "C2 = {}\n",
    "for pair in pairs:\n",
    "    C2[PrettyFrozenset(pair)] = 0\n",
    "\n",
    "print(C2)\n",
    "print(f\"There are {len(C2)} candidate item pairs.\")"
   ]
  },
  {
   "cell_type": "code",
   "execution_count": null,
   "metadata": {},
   "outputs": [],
   "source": [
    "# Pass 2: finding support of all candidate item pairs in C2\n",
    "\n",
    "for basket in transactions:\n",
    "    \n",
    "    for pair in it.combinations(basket,2):\n",
    "        pair = PrettyFrozenset(pair)\n",
    "        if pair in C2:\n",
    "            C2[pair] += 1\n",
    "print(C2)"
   ]
  },
  {
   "cell_type": "code",
   "execution_count": null,
   "metadata": {},
   "outputs": [],
   "source": [
    "# Pruning: removing all infrequent item pairs from C2\n",
    "# this will generate L2\n",
    "pairs = tuple(C2)\n",
    "for pair in pairs:\n",
    "    pair = PrettyFrozenset(pair)\n",
    "    if C2[pair] < support_threshold:\n",
    "        del C2[pair]\n",
    "        \n",
    "L2 = C2\n",
    "print(L2)\n",
    "print(f\"There are {len(L2)} frequent item pairs.\")\n",
    "frequent_sets.update(L2)"
   ]
  },
  {
   "cell_type": "code",
   "execution_count": null,
   "metadata": {},
   "outputs": [],
   "source": [
    "# generating candidate item triples for C3 using singletons in L2\n",
    "frequent_singletons = set([i for s in L2 for i in s])\n",
    "triples = it.combinations(frequent_singletons, 3)\n",
    "\n",
    "# populating C3 with candidate triples\n",
    "C3 = {}\n",
    "for t in triples:\n",
    "    t = PrettyFrozenset(t)\n",
    "    C3[t] = 0\n",
    "\n",
    "print(C3)\n",
    "print(f\"There are {len(C3)} candidate item triples.\")"
   ]
  },
  {
   "cell_type": "code",
   "execution_count": null,
   "metadata": {},
   "outputs": [],
   "source": [
    "# Initial Prune of C3: will remove all triples containing infrequent pairs (pairs not in L2)\n",
    "\n",
    "for t in triples:\n",
    "    for p in it.combinations(t, 2):\n",
    "        p = PrettyFrozenset(p)\n",
    "        if p not in L2:\n",
    "            del C3[t]\n",
    "            break\n",
    "\n",
    "print(C3)\n",
    "print(f\"There are now {len(C3)} candidate item triples after initial pruning.\")\n",
    "    "
   ]
  },
  {
   "cell_type": "code",
   "execution_count": null,
   "metadata": {},
   "outputs": [],
   "source": [
    "# Pass 3: counting support for all triples\n",
    "\n",
    "for basket in transactions:\n",
    "\n",
    "    for t in it.combinations(basket, 3):\n",
    "        t = PrettyFrozenset(t)\n",
    "        if t in C3:\n",
    "            C3[t] += 1\n",
    "\n",
    "print(C3)"
   ]
  },
  {
   "cell_type": "code",
   "execution_count": null,
   "metadata": {},
   "outputs": [],
   "source": [
    "# Pruning C3 to remove infrequent triples\n",
    "# this generates L3\n",
    "triples = tuple(C3)\n",
    "for t in triples:\n",
    "    if C3[t] < support_threshold:\n",
    "        del C3[t]\n",
    "L3 = C3\n",
    "\n",
    "print(L3)\n",
    "print(f\"There are now {len(L3)} candidate item triples after support threshold pruning.\")\n",
    "frequent_sets.update(L3)"
   ]
  },
  {
   "cell_type": "code",
   "execution_count": null,
   "metadata": {},
   "outputs": [],
   "source": [
    "print(frequent_sets)"
   ]
  },
  {
   "cell_type": "code",
   "execution_count": null,
   "metadata": {},
   "outputs": [],
   "source": [
    "# generating association rules based on frequent pairs and triples\n",
    "rules = []\n",
    "\n",
    "for itmset in frequent_sets.keys():\n",
    "    \n",
    "    for r in range(1, len(itmset)):\n",
    "        \n",
    "        for A in it.combinations(itmset,r):\n",
    "            \n",
    "            antecedent = PrettyFrozenset(A)\n",
    "            consequent = itmset - antecedent\n",
    "            confidence = frequent_sets[itmset] / frequent_sets[antecedent]\n",
    "            \n",
    "            if (confidence >= confidence_threshold):\n",
    "                \n",
    "                rules.append((list(antecedent), list(consequent)))\n",
    "\n",
    "print(\"\\nAssociation Rules:\")\n",
    "for rule in rules:\n",
    "    print(rule)"
   ]
  },
  {
   "cell_type": "code",
   "execution_count": null,
   "metadata": {},
   "outputs": [],
   "source": [
    "for item in frequent_sets:\n",
    "    print(item)"
   ]
  }
 ],
 "metadata": {
  "kernelspec": {
   "display_name": "base",
   "language": "python",
   "name": "python3"
  },
  "language_info": {
   "codemirror_mode": {
    "name": "ipython",
    "version": 3
   },
   "file_extension": ".py",
   "mimetype": "text/x-python",
   "name": "python",
   "nbconvert_exporter": "python",
   "pygments_lexer": "ipython3",
   "version": "3.11.4"
  }
 },
 "nbformat": 4,
 "nbformat_minor": 2
}
