{
 "cells": [
  {
   "cell_type": "markdown",
   "metadata": {},
   "source": [
    "## IMPORTING LIBRARIES"
   ]
  },
  {
   "cell_type": "code",
   "execution_count": 3,
   "metadata": {},
   "outputs": [],
   "source": [
    "import itertools as it\n",
    "from collections import defaultdict\n",
    "import numpy as np\n",
    "import urllib\n",
    "import time\n",
    "import random\n",
    "import matplotlib.pyplot as plt\n",
    "import math as math\n",
    "import sys"
   ]
  },
  {
   "cell_type": "markdown",
   "metadata": {},
   "source": [
    "## LOADING DATA"
   ]
  },
  {
   "cell_type": "code",
   "execution_count": 2,
   "metadata": {},
   "outputs": [],
   "source": [
    "# Load the retail dataset from the URL, this will be used in lab 4, not lab 3\n",
    "def load_data_from_url(url):\n",
    "    response = urllib.request.urlopen(url)\n",
    "    lines = response.readlines()\n",
    "    dataset = [list(map(int, line.strip().split())) for line in lines]\n",
    "    return dataset\n",
    "\n",
    "dataset = load_data_from_url(\"http://fimi.uantwerpen.be/data/retail.dat\")"
   ]
  },
  {
   "cell_type": "markdown",
   "metadata": {},
   "source": [
    "## APRIORI ALGORITHM"
   ]
  },
  {
   "cell_type": "code",
   "execution_count": 3,
   "metadata": {},
   "outputs": [],
   "source": [
    "set_counts = {}\n",
    "\n",
    "def apriori(dataset, min_support) -> list:\n",
    "\n",
    "    # TODO: Implement the Apriori algorithm\n",
    "    \n",
    "    # Pass 1: recording singleton support in dictionary\n",
    "    # This generates C1\n",
    "    C1 = defaultdict(int)\n",
    "    for basket in dataset:\n",
    "        for item in basket:\n",
    "            C1[tuple((item,))] += 1\n",
    "    \n",
    "    \n",
    "    # Pruning C1: removing infrequent singletons from dictionary\n",
    "    # this generates L1\n",
    "    items = tuple(C1)\n",
    "    # if the item count is less than support, entry is removed from dictionary\n",
    "    for item in items:\n",
    "        if C1[item] < min_support:\n",
    "            del C1[item]\n",
    "    # defining frequent itemset map as L1\n",
    "    L1 = C1\n",
    "    # appending list of frequent singletons to frequent_sets\n",
    "    set_counts.update(L1)\n",
    "    \n",
    "    \n",
    "    # Generating candidate item pairs for C2 using singletons in L1\n",
    "    frequent_singletons = [i for s in L1 for i in s]\n",
    "    pairs = it.combinations(frequent_singletons,2)\n",
    "    # initializing C2 with candidates\n",
    "    C2 = {}\n",
    "    for pair in pairs:\n",
    "        C2[tuple(sorted(pair))] = 0\n",
    "\n",
    "\n",
    "    # Pass 2: finding support of all candidate item pairs in C2\n",
    "    for basket in dataset:\n",
    "        for pair in it.combinations(basket,2):\n",
    "            pair = tuple(sorted(pair))\n",
    "            if pair in C2:\n",
    "                C2[pair] += 1\n",
    "\n",
    "    \n",
    "    # Pruning: removing all infrequent item pairs from C2\n",
    "    # this will generate L2\n",
    "    pairs = tuple(C2)\n",
    "    for pair in pairs:\n",
    "        if C2[pair] < min_support:\n",
    "            del C2[pair]\n",
    "    L2 = C2\n",
    "    # appending list of frequent pairs to frequent_sets\n",
    "    set_counts.update(L2)\n",
    "    \n",
    "    frequent_sets = []\n",
    "    for s in set_counts:\n",
    "        frequent_sets.append(list(s))\n",
    "    \n",
    "    return frequent_sets"
   ]
  },
  {
   "cell_type": "markdown",
   "metadata": {},
   "source": [
    "## BUCKET HASHING FUNCTION"
   ]
  },
  {
   "cell_type": "code",
   "execution_count": 4,
   "metadata": {},
   "outputs": [],
   "source": [
    "# Hash function for PCY algorithm, do not modify this, should be used in the pcy_algorithm function\n",
    "def hash_function(pair, num_buckets):\n",
    "    i, j = pair\n",
    "    hash_value = ((i * num_buckets) + j) % num_buckets\n",
    "    return hash_value"
   ]
  },
  {
   "cell_type": "markdown",
   "metadata": {},
   "source": [
    "## PCY ALGORITHM"
   ]
  },
  {
   "cell_type": "code",
   "execution_count": 5,
   "metadata": {},
   "outputs": [],
   "source": [
    "def pcy_algorithm(dataset, min_support, hash_buckets) -> list:\n",
    "    \n",
    "    frequent_items = []\n",
    "\n",
    "    # Pass 1: counting singletons and hashing pairs to buckets\n",
    "    # each pair will be sorted in order to maintain consistent hashing for out of order pairs\n",
    "    C1 = defaultdict(int)\n",
    "    buckets = defaultdict(int)\n",
    "\n",
    "    for basket in dataset:\n",
    "        \n",
    "        for i in basket:\n",
    "            C1[i] += 1\n",
    "            \n",
    "        for p in it.combinations(basket,2):\n",
    "            buckets[hash_function(sorted(p),hash_buckets)] += 1\n",
    "    \n",
    "    \n",
    "    \n",
    "    # Pruning C1 to create L1 for singletons\n",
    "    # converting buckets to a bit-vector\n",
    "    items = tuple(C1)\n",
    "    \n",
    "    for i in items:\n",
    "        if C1[i] < min_support:\n",
    "            del C1[i]\n",
    "    \n",
    "    # L1 is mapping of frequent singletons\n",
    "    L1 = C1\n",
    "    for i in L1:\n",
    "        frequent_items.append([i])\n",
    "\n",
    "    # converting buckets to a bit vector\n",
    "    bitvector = 0\n",
    "    for x in buckets:\n",
    "        if(buckets[x] >= min_support):\n",
    "            bitvector |= (1 << x)\n",
    "            \n",
    "    # delete redundant hashmap\n",
    "    del buckets\n",
    "    \n",
    "    # Pass 2: Generating C2 using L1 and bit vector to reduce candidate pair list\n",
    "    C2 = defaultdict(int)\n",
    "    \n",
    "    for basket in dataset:\n",
    "    \n",
    "        for p in it.combinations(basket,2):\n",
    "    \n",
    "            p = tuple(sorted(p))\n",
    "            bucket_num = hash_function(p, hash_buckets)\n",
    "    \n",
    "            if( (p[0] in L1) and (p[1] in L1) and (bitvector & (1 << bucket_num))):\n",
    "                C2[p] += 1\n",
    "\n",
    "                \n",
    "    # Appending all frequent candidate pairs\n",
    "    for p in C2:\n",
    "        frequent_items.append(list(p))\n",
    "\n",
    "\n",
    "    return frequent_items"
   ]
  },
  {
   "cell_type": "markdown",
   "metadata": {},
   "source": [
    "## COMPARING RUNTIMES"
   ]
  },
  {
   "cell_type": "code",
   "execution_count": 6,
   "metadata": {},
   "outputs": [],
   "source": [
    "# generating a sequence of partitions of the dataset\n",
    "# each partition is from the oth to nth basket\n",
    "partitions = [0, 100, 500, 2000, 5000, 10000]\n",
    "\n",
    "# with roughly 16000 unique items there are roughly 135 million possible unique item pairs\n",
    "# each partition could potentially contain all or most unique item pairs\n",
    "    # a fully populated dictionary with 100 million int:int entries takes up roughly 7GB of memory\n",
    "    # a fully populated dictionary with 10 million int:int entries takes up roughly 0.83GB of memory\n",
    "# thus we avoid many bucket collisions even if a high percentage of the potential pairs do exist in the partitions, \n",
    "NUM_BUCKETS = 10000000\n",
    "\n",
    "# data points for graphing\n",
    "x = [] # number of baskets\n",
    "ap_y = [] # apriori runtime per basket\n",
    "pcy_y = [] # pcy runtime per basket\n",
    "\n",
    "for E in partitions:\n",
    "    \n",
    "    # extracting current dataset partition\n",
    "    d = dataset[:E]\n",
    "    support = 5\n",
    "    \n",
    "    ### RUNTIME OF APRIORI ###\n",
    "    ap_start = time.time()\n",
    "    apriori_freq_items = apriori(d, support)\n",
    "    ap_end = time.time()\n",
    "    \n",
    "    ### RUNTIME OF PCY ###\n",
    "    pcy_start = time.time()\n",
    "    pcy_freq_items = pcy_algorithm(d, support, NUM_BUCKETS)\n",
    "    pcy_end = time.time()\n",
    "    \n",
    "    x.append(E)\n",
    "    ap_y.append((ap_end-ap_start)*1000)\n",
    "    pcy_y.append((pcy_end-pcy_start)*1000)    \n",
    "        "
   ]
  },
  {
   "cell_type": "markdown",
   "metadata": {},
   "source": [
    "## PLOTTING DATA"
   ]
  },
  {
   "cell_type": "code",
   "execution_count": 7,
   "metadata": {},
   "outputs": [
    {
     "data": {
      "image/png": "[encoded data removed]",
      "text/plain": [
       "<Figure size 1000x600 with 1 Axes>"
      ]
     },
     "metadata": {},
     "output_type": "display_data"
    }
   ],
   "source": [
    "# Create a figure with 1 subplots\n",
    "fig, ax = plt.subplots(figsize=(10,6))\n",
    "# Plotting apriori runtimes\n",
    "ax.plot(x, ap_y, '-o', label='Apriori Algorithm Runtime')\n",
    "# Plotting pcy runtimes\n",
    "ax.plot(x, pcy_y, '-o', label='PCY Algorithm Runtime')\n",
    "\n",
    "\n",
    "# Adding labels and a title\n",
    "ax.set_xlabel('Number of Baskets')\n",
    "ax.set_ylabel('Time (ms)')\n",
    "ax.set_title('APRIORI vs PCY ALGORITHM RUNTIMES')\n",
    "ax.grid()\n",
    "ax.set_ylim(0,max(pcy_y))\n",
    "ax.set_yticks( range(0,round(max(pcy_y)+5500),500) )\n",
    "ax.legend(loc=(0.1,0.763))\n",
    "\n",
    "plt.show()"
   ]
  },
  {
   "cell_type": "code",
   "execution_count": 2,
   "metadata": {},
   "outputs": [],
   "source": [
    "def random_jaccard(n,m):\n",
    "    if(m > n):\n",
    "        print(\"m must be <= n\\n\")\n",
    "        return\n",
    "    U = []\n",
    "    for i in range(n):\n",
    "        U.append(i)\n",
    "    num_unique_sets = math.comb(n,m)\n",
    "    S = [random.randint(0,num_unique_sets-1),False]\n",
    "    T = [random.randint(0,num_unique_sets-1),False]\n",
    "    index = 0\n",
    "    for i in it.combinations(U,m):\n",
    "        if (index == S[0]):\n",
    "            S.append(i)\n",
    "            S[1] = True\n",
    "        if (index == T[0]):\n",
    "            T.append(i)\n",
    "            T[1] = True\n",
    "        if (S[1] and T[1]):\n",
    "            break\n",
    "        index += 1\n",
    "    S = set(S[2])\n",
    "    T = set(T[2])\n",
    "    return (len(S&T)/len(S|T))\n",
    "    \n",
    "def average_jaccard(iterations, n, m):\n",
    "    total_sim = 0\n",
    "    for i in range(iterations):\n",
    "        total_sim += random_jaccard(n,m)\n",
    "    return total_sim/iterations\n",
    "\n",
    "def expected_jaccard(n,m):\n",
    "    expected_sim = 0\n",
    "    for k in range(max(0,2*m-n),m+1):\n",
    "        expected_sim += (k/(2*m-k)) * (math.comb(n,k) * math.comb(n-k,m-k) * math.comb(n-m,m-k)) / math.comb(n,m)**2\n",
    "    return expected_sim"
   ]
  },
  {
   "cell_type": "code",
   "execution_count": 9,
   "metadata": {},
   "outputs": [],
   "source": [
    "# # solution1\n",
    "# (k/(2*m-k)) * (math.comb(m,k) * math.comb(n-m,m-k)) / math.comb(n,m)\n",
    "\n",
    "# # solution2\n",
    "# (k/(2*m-k)) * (math.comb(n,k) * math.comb(n-k,m-k) * math.comb(n-m,m-k)) / math.comb(n,m)**2"
   ]
  },
  {
   "cell_type": "code",
   "execution_count": 5,
   "metadata": {},
   "outputs": [
    {
     "name": "stdout",
     "output_type": "stream",
     "text": [
      "Simulated average Jaccard similarity: 0.2706609523809644\n",
      "Calculated expected Jaccard similarity: 0.27061224489795915\n"
     ]
    }
   ],
   "source": [
    "n = 10\n",
    "m = 4\n",
    "its = 10000\n",
    "print(f\"Simulated average Jaccard similarity: {average_jaccard(its,n,m)}\")\n",
    "print(f\"Calculated expected Jaccard similarity: {expected_jaccard(n,m)}\")\n"
   ]
  }
 ],
 "metadata": {
  "kernelspec": {
   "display_name": "base",
   "language": "python",
   "name": "python3"
  },
  "language_info": {
   "codemirror_mode": {
    "name": "ipython",
    "version": 3
   },
   "file_extension": ".py",
   "mimetype": "text/x-python",
   "name": "python",
   "nbconvert_exporter": "python",
   "pygments_lexer": "ipython3",
   "version": "3.11.7"
  }
 },
 "nbformat": 4,
 "nbformat_minor": 2
}
