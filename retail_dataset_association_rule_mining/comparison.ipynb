{
 "cells": [
  {
   "cell_type": "markdown",
   "metadata": {},
   "source": [
    "## IMPORTING LIBRARIES"
   ]
  },
  {
   "cell_type": "code",
   "execution_count": 11,
   "metadata": {},
   "outputs": [],
   "source": [
    "import itertools as it\n",
    "from collections import defaultdict\n",
    "import numpy as np\n",
    "import urllib\n",
    "import time\n",
    "import matplotlib.pyplot as plt"
   ]
  },
  {
   "cell_type": "code",
   "execution_count": 50,
   "metadata": {},
   "outputs": [
    {
     "name": "stdout",
     "output_type": "stream",
     "text": [
      "bits: 15456\n",
      "8174441013209442250384965122051947477653140974685146757738214546096354730198431312184343583006799498146823135484275167688178713912021199069807177606745579917063902792272396578425391251168892744749455115833569003505412036442032447113808151398683072488988864662913609653045366592527512456158724352755911887449890939755538862044580453288672798405678948990272934040355558529876221845859440197331597361651631176287913184096101291425482768159349655898482519341283312600123150784871828088614733033521959431785345695797070768644023592340397716779474466743925942825382826279204859970150982583529714618113116764164617284817415061906520715000305130170585599077109019488574698035621379927328672707222041503040206336136796279707322591301180678919801558829645417037792167254488749464710054492815773165352783191865690140355572834472401450273813205611607220550435197969792466515690879043501299956350800171521326487487845494445156443974468003309523801634728078446681747276676560082593983814678317702523655561049081247811743540440082824669432323380905764647569429793813414995191226067302546137513360896126769634846810357455934279350127454005997454050515959608398254392658708755873856454484959368188442858339671990490829632648908517109675098228805516474971043693683738666450109371303140330534680192495852951909919586160710641481367738969042430457639590747223796278288621286306868318727401219782986521920201330782472293347031721835346083768065102628916372624723173987556667503356033992694454549023526137435298118308854749365683210404817712404376270038532628882271228024938482504845268029876871197589432106194276502516565839433261855083555487067457547716536623301278935176597726201355120686049099659394068790519654641256270822369026764075078055043271519139456673831402211254109806267020682386912360606738532814180525429882466777486761736306491817828769576728068909037076862446283713305397482309732714284923396981321151115186522459117213562466384417928636811237984054659584147452258779215985195881453008516663083529163684131318880818545860500488498406293670790960178380371025805201856001706179156060244517665667751233822921122654735626284434811525028283303506801287229186272497034605403127833767655957154607808537271438655605623053073938627143231476212856138335905079702274633123611598265644057780431409242079111798468065133298644760263382950594608308377899049634654086432988024531329456631814914773541797008323579849281869770215846224065628601901841342795597805641614514649809546679505558441724773428539410614392561630215764684823329450878764591207475496646831308900105417548657337972414873615723152151897411855023116077417634470917422964161856813659447764470479185681465492629489593336825574850693521011879634796795590528505749394434993248936187882329471850680815332230899498799172175608919595409229468913886012370967550603383469060586919616888570954065500608780687655598958781316606820156688429684355182192193632725349472548378852333475910891960298326792943800954311041840232349689601065218935807570745101494574085723306529161786258748357979120964854568987233455250272976870670305335577779626119435495412973969390355087195584249687724335446043303625939476595366105832665044373743991302323616719669690586910884259563253233789158138866574322446312334352965977919442394362416931596471636533194782565637806861721257496467291532264268677344621045928433917805709602429420729562584323547014700033343626765159142412110619694394752042793205936720325335916301901802417080911712537833330690957741602224262922090402122024330646542071990364859206790502168274499018739767267111534749418573472144891329107409975567314744634484357159007895919368338969144783832427178404105344948802923686349550193939326223068384524574077417896783131636443028391894877985842620665489801759609019034587100655402883195975682198066762341497270233426981451012145018640498187353639783299895468714920133038157004846196766646956556313234678699239566874175856398324964549652619301347220741746905425146306942228443675343883792852969339321038961940360635760887194568262802036781604625921275821819938782911794489391352765208792421126172937857719239047663492713085648837325055711244366219065214607002862040382549471044279473944102837260607918725357461922001765847902854881915641677501435165119539269933034846439490452797230209586283718508245884247391660265823010816\n"
     ]
    }
   ],
   "source": [
    "import sys\n",
    "\n",
    "num = 0\n",
    "num |= (1 << 14284)\n",
    "\n",
    "print(f\"bits: {sys.getsizeof(num)*8}\")\n",
    "print(num)"
   ]
  },
  {
   "cell_type": "markdown",
   "metadata": {},
   "source": [
    "## LOADING DATA"
   ]
  },
  {
   "cell_type": "code",
   "execution_count": 12,
   "metadata": {},
   "outputs": [],
   "source": [
    "# Load the retail dataset from the URL, this will be used in lab 4, not lab 3\n",
    "def load_data_from_url(url):\n",
    "    response = urllib.request.urlopen(url)\n",
    "    lines = response.readlines()\n",
    "    dataset = [list(map(int, line.strip().split())) for line in lines]\n",
    "    return dataset\n",
    "\n",
    "dataset = load_data_from_url(\"http://fimi.uantwerpen.be/data/retail.dat\")"
   ]
  },
  {
   "cell_type": "markdown",
   "metadata": {},
   "source": [
    "## APRIORI ALGORITHM"
   ]
  },
  {
   "cell_type": "code",
   "execution_count": 13,
   "metadata": {},
   "outputs": [],
   "source": [
    "def apriori(dataset, min_support) -> list:\n",
    "    frequent_sets = []\n",
    "\n",
    "    # Pass 1: recording singleton support in dictionary\n",
    "    # This generates C1\n",
    "    C1 = defaultdict(int)\n",
    "    for basket in dataset:\n",
    "        for item in basket:\n",
    "            C1[item] += 1\n",
    "    \n",
    "    \n",
    "    # Pruning C1: removing infrequent singletons from dictionary\n",
    "    # this generates L1\n",
    "    items = tuple(C1)\n",
    "    # if the item count is less than support, entry is removed from dictionary\n",
    "    for item in items:\n",
    "        if C1[item] < min_support:\n",
    "            del C1[item]\n",
    "    # defining frequent itemset map as L1\n",
    "    L1 = C1\n",
    "    # appending list of frequent singletons to frequent_sets\n",
    "    for i in L1:\n",
    "        frequent_sets.append(i)\n",
    "    \n",
    "    \n",
    "    # Generating candidate item pairs for C2 using singletons in L1\n",
    "    pairs = it.combinations(L1,2)\n",
    "    # initializing C2 with candidates\n",
    "    C2 = {}\n",
    "    for pair in pairs:\n",
    "        C2[tuple(sorted(pair))] = 0\n",
    "\n",
    "\n",
    "    # Pass 2: finding support of all candidate item pairs in C2\n",
    "    for basket in dataset:\n",
    "        for pair in it.combinations(basket,2):\n",
    "            pair = tuple(sorted(pair))\n",
    "            if pair in C2:\n",
    "                C2[pair] += 1\n",
    "\n",
    "    \n",
    "    # Pruning: removing all infrequent item pairs from C2\n",
    "    # this will generate L2\n",
    "    pairs = tuple(C2)\n",
    "    for pair in pairs:\n",
    "        pair = tuple(sorted(pair))\n",
    "        if C2[pair] < min_support:\n",
    "            del C2[pair]\n",
    "    L2 = C2\n",
    "    # appending list of frequent pairs to frequent_sets\n",
    "    for i in L2:\n",
    "        frequent_sets.append(i)\n",
    "    \n",
    "    return frequent_sets"
   ]
  },
  {
   "cell_type": "markdown",
   "metadata": {},
   "source": [
    "## BUCKET HASHING FUNCTION"
   ]
  },
  {
   "cell_type": "code",
   "execution_count": 14,
   "metadata": {},
   "outputs": [],
   "source": [
    "# Hash function for PCY algorithm, do not modify this, should be used in the pcy_algorithm function\n",
    "def hash_function(pair, num_buckets):\n",
    "    i, j = pair\n",
    "    hash_value = ((i * num_buckets) + j) % num_buckets\n",
    "    return hash_value"
   ]
  },
  {
   "cell_type": "markdown",
   "metadata": {},
   "source": [
    "## PCY ALGORITHM"
   ]
  },
  {
   "cell_type": "code",
   "execution_count": 15,
   "metadata": {},
   "outputs": [],
   "source": [
    "def pcy_algorithm(dataset, min_support, hash_buckets) -> list:\n",
    "    \n",
    "    frequent_items = []\n",
    "\n",
    "    # Pass 1: counting singletons and hashing pairs to buckets\n",
    "    # each pair will be sorted in order to maintain consistent hashing for out of order pairs\n",
    "    C1 = defaultdict(int)\n",
    "    buckets = defaultdict(int)\n",
    "\n",
    "    for basket in dataset:\n",
    "        \n",
    "        for i in basket:\n",
    "            C1[i] += 1\n",
    "            \n",
    "        for p in it.combinations(basket,2):\n",
    "            buckets[hash_function(sorted(p),hash_buckets)] += 1\n",
    "    \n",
    "    \n",
    "    \n",
    "    # Pruning C1 to create L1 for singletons\n",
    "    # converting buckets to a bit-vector\n",
    "    items = tuple(C1)\n",
    "    \n",
    "    for i in items:\n",
    "        if C1[i] < min_support:\n",
    "            del C1[i]\n",
    "    \n",
    "    # L1 is mapping of frequent singletons\n",
    "    L1 = C1\n",
    "    for i in L1:\n",
    "        frequent_items.append(i)\n",
    "\n",
    "    # converting buckets to a bit vector\n",
    "    bitvector = 0\n",
    "    for x in buckets:\n",
    "        if(buckets[x] >= min_support):\n",
    "            bitvector |= (1 << x)\n",
    "            \n",
    "    # delete redundant hashmap\n",
    "    del buckets\n",
    "    \n",
    "    # Pass 2: Generating C2 using L1 and bit vector to reduce candidate pair list\n",
    "    C2 = defaultdict(int)\n",
    "    \n",
    "    for basket in dataset:\n",
    "    \n",
    "        for p in it.combinations(basket,2):\n",
    "    \n",
    "            p = tuple(sorted(p))\n",
    "            bucket_num = hash_function(p, hash_buckets)\n",
    "    \n",
    "            if( (p[0] in L1) and (p[1] in L1) and (bitvector & (1 << bucket_num))):\n",
    "                C2[p] += 1\n",
    "                \n",
    "                \n",
    "                \n",
    "    # pruning infrequent item pairs\n",
    "    pairs = tuple(C2)\n",
    "    \n",
    "    for p in pairs:\n",
    "        if C2[p] < min_support:\n",
    "            del C2[p]\n",
    "    \n",
    "    L2 = C2\n",
    "    for p in L2:\n",
    "        frequent_items.append(p)\n",
    "    \n",
    "\n",
    "\n",
    "    return frequent_items"
   ]
  },
  {
   "cell_type": "markdown",
   "metadata": {},
   "source": [
    "## COMPARING RUNTIMES"
   ]
  },
  {
   "cell_type": "code",
   "execution_count": 16,
   "metadata": {},
   "outputs": [],
   "source": [
    "# generating a sequence of partitions of the dataset\n",
    "# each partition is from the oth to nth basket\n",
    "partitions = [0, 100, 500, 2000, 5000]\n",
    "\n",
    "# this is the total number of bits that can be stored in a single integer\n",
    "NUM_BUCKETS = 14285 \n",
    "\n",
    "# data points for graphing\n",
    "x = [] # number of baskets\n",
    "ap_y = [] # apriori runtime per basket\n",
    "pcy_y = [] # pcy runtime per basket\n",
    "\n",
    "for E in partitions:\n",
    "    \n",
    "    # extracting current dataset partition\n",
    "    d = dataset[:E]\n",
    "    support = 5\n",
    "    \n",
    "    ### RUNTIME OF APRIORI ###\n",
    "    ap_start = time.time()\n",
    "    apriori_freq_items = apriori(d, support)\n",
    "    ap_end = time.time()\n",
    "    \n",
    "    ### RUNTIME OF PCY ###\n",
    "    pcy_start = time.time()\n",
    "    pcy_freq_items = pcy_algorithm(d, support, NUM_BUCKETS)\n",
    "    pcy_end = time.time()\n",
    "    \n",
    "    x.append(E)\n",
    "    ap_y.append((ap_end-ap_start)*1000)\n",
    "    pcy_y.append((pcy_end-pcy_start)*1000)    \n",
    "        "
   ]
  },
  {
   "cell_type": "markdown",
   "metadata": {},
   "source": [
    "## PLOTTING DATA"
   ]
  },
  {
   "cell_type": "code",
   "execution_count": 17,
   "metadata": {},
   "outputs": [
    {
     "data": {
      "image/png": "[encoded data removed]",
      "text/plain": [
       "<Figure size 1000x600 with 1 Axes>"
      ]
     },
     "metadata": {},
     "output_type": "display_data"
    }
   ],
   "source": [
    "# Create a figure with 1 subplots\n",
    "fig, ax = plt.subplots(figsize=(10,6))\n",
    "# Plotting apriori runtimes\n",
    "ax.plot(x, ap_y, '-o', label='Apriori Algorithm Runtime')\n",
    "# Plotting pcy runtimes\n",
    "ax.plot(x, pcy_y, '-o', label='PCY Algorithm Runtime')\n",
    "\n",
    "\n",
    "# Adding labels and a title\n",
    "ax.set_xlabel('Number of Baskets')\n",
    "ax.set_ylabel('Time (ms)')\n",
    "ax.set_title('APRIORI vs PCY ALGORITHM RUNTIMES')\n",
    "ax.grid()\n",
    "ax.set_ylim(0,max(pcy_y))\n",
    "ax.set_yticks( range(0,round(max(pcy_y)+3000),500) )\n",
    "ax.legend(loc=(0.1,0.763))\n",
    "\n",
    "plt.show()"
   ]
  },
  {
   "cell_type": "markdown",
   "metadata": {},
   "source": [
    "#### USE THIS  ltuple SUBLCASS INSTEAD OF FROZENSET SUBCLASS"
   ]
  },
  {
   "cell_type": "code",
   "execution_count": 18,
   "metadata": {},
   "outputs": [],
   "source": [
    "import sys\n",
    "class ltuple(tuple):\n",
    "    def __repr__(self):\n",
    "        return str(list(self))\n"
   ]
  },
  {
   "cell_type": "markdown",
   "metadata": {},
   "source": [
    "#### 10 million buckets seems to be a good balanace between sufficient size and computation time"
   ]
  },
  {
   "cell_type": "code",
   "execution_count": 19,
   "metadata": {},
   "outputs": [
    {
     "name": "stdout",
     "output_type": "stream",
     "text": [
      "0.07450591027736664\n"
     ]
    }
   ],
   "source": [
    "import numpy as np\n",
    "array = np.zeros((10000000,))\n",
    "\n",
    "print(sys.getsizeof(array)/(2**30))\n",
    "for i in range(len(array)):\n",
    "    array[i] = i    "
   ]
  }
 ],
 "metadata": {
  "kernelspec": {
   "display_name": "base",
   "language": "python",
   "name": "python3"
  },
  "language_info": {
   "codemirror_mode": {
    "name": "ipython",
    "version": 3
   },
   "file_extension": ".py",
   "mimetype": "text/x-python",
   "name": "python",
   "nbconvert_exporter": "python",
   "pygments_lexer": "ipython3",
   "version": "3.11.7"
  }
 },
 "nbformat": 4,
 "nbformat_minor": 2
}
