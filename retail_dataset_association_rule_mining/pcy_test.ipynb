{
 "cells": [
  {
   "cell_type": "code",
   "execution_count": null,
   "metadata": {},
   "outputs": [],
   "source": [
    "import itertools as it\n",
    "from collections import defaultdict\n",
    "import numpy as np\n",
    "\n",
    "def hash_function(pair, num_buckets):\n",
    "    i, j = pair\n",
    "    hash_value = ((i * num_buckets) + j) % num_buckets\n",
    "    return hash_value"
   ]
  },
  {
   "cell_type": "code",
   "execution_count": 3,
   "metadata": {},
   "outputs": [
    {
     "name": "stdout",
     "output_type": "stream",
     "text": [
      "16469\n"
     ]
    },
    {
     "data": {
      "text/plain": [
       "127992000.0"
      ]
     },
     "execution_count": 3,
     "metadata": {},
     "output_type": "execute_result"
    }
   ],
   "source": [
    "with open(\"./retail.csv\") as file:\n",
    "    baskets = file.readlines()\n",
    "\n",
    "transactions = [[int(item) for item in basket.strip().split(' ')] for basket in baskets]\n",
    "# transactions = [[1, 2, 3],\n",
    "#                 [4, 5],\n",
    "#                 [1, 4, 5],\n",
    "#                 [1, 2, 4],\n",
    "#                 [3, 4, 5],\n",
    "#                 [2, 4, 5]]\n",
    "\n",
    "SUPPORT = round(0.01*len(transactions))\n",
    "NUM_BUCKETS = 1000000\n",
    "# SUPPORT = 2\n",
    "frequent_items = []\n",
    "\n",
    "maximum = 0\n",
    "for basket in transactions:\n",
    "    currmax = max(basket)\n",
    "    if currmax > maximum:\n",
    "        maximum = currmax\n",
    "print(maximum)\n",
    "(16000*(15999))/2"
   ]
  },
  {
   "cell_type": "code",
   "execution_count": null,
   "metadata": {},
   "outputs": [],
   "source": [
    "# Pass 1: counting singletons and hashing pairs to buckets\n",
    "    # each pair will be sorted in order to maintain consistent hashing for\n",
    "C1 = defaultdict(int)\n",
    "buckets = np.zeros(NUM_BUCKETS)\n",
    "\n",
    "for basket in transactions:\n",
    "    for i in basket:\n",
    "        C1[i] += 1\n",
    "    \n",
    "    for p in it.combinations(basket,2):\n",
    "        p = sorted(p)\n",
    "        buckets[hash_function(p,NUM_BUCKETS)] += 1\n",
    "\n",
    "print(buckets)"
   ]
  },
  {
   "cell_type": "code",
   "execution_count": null,
   "metadata": {},
   "outputs": [],
   "source": [
    "# Pruning C1 to create L1 for singletons\n",
    "# converting buckets to a bit-vector\n",
    "\n",
    "items = tuple(C1)\n",
    "for i in items:\n",
    "    if C1[i] < SUPPORT:\n",
    "        del C1[i]\n",
    "# L1 is mapping of frequent singletons\n",
    "L1 = C1\n",
    "for i in L1:\n",
    "    frequent_items.append([i])\n",
    "\n",
    "# converting buckets to a bit vector\n",
    "for x in range(len(buckets)):\n",
    "    if buckets[x] < SUPPORT:\n",
    "        buckets[x] = 0\n",
    "    else:\n",
    "        buckets[x] = 1\n",
    "print(buckets)\n",
    "print(L1)"
   ]
  },
  {
   "cell_type": "code",
   "execution_count": null,
   "metadata": {},
   "outputs": [],
   "source": [
    "# Pass 2: Generating C2 using L1 and bit vector to reduce candidate pair list\n",
    "C2 = defaultdict(int)\n",
    "for basket in transactions:\n",
    "    for p in it.combinations(basket,2):\n",
    "        p = tuple(sorted(p))\n",
    "        bucket_num = hash_function(p, NUM_BUCKETS)\n",
    "        if( (p[0] in L1) and (p[1] in L1) and (buckets[bucket_num] == 1)):\n",
    "            C2[p] += 1\n",
    "print(C2)"
   ]
  },
  {
   "cell_type": "code",
   "execution_count": null,
   "metadata": {},
   "outputs": [],
   "source": [
    "# pruning infrequent item pairs\n",
    "pairs = tuple(C2)\n",
    "for p in pairs:\n",
    "    if C2[p] < SUPPORT:\n",
    "        del C2[p]\n",
    "L2 = C2\n",
    "for p in L2:\n",
    "    frequent_items.append(list(p))\n",
    "print(L2)\n"
   ]
  },
  {
   "cell_type": "code",
   "execution_count": null,
   "metadata": {},
   "outputs": [],
   "source": [
    "print(frequent_items)"
   ]
  }
 ],
 "metadata": {
  "kernelspec": {
   "display_name": "base",
   "language": "python",
   "name": "python3"
  },
  "language_info": {
   "codemirror_mode": {
    "name": "ipython",
    "version": 3
   },
   "file_extension": ".py",
   "mimetype": "text/x-python",
   "name": "python",
   "nbconvert_exporter": "python",
   "pygments_lexer": "ipython3",
   "version": "3.11.7"
  }
 },
 "nbformat": 4,
 "nbformat_minor": 2
}
