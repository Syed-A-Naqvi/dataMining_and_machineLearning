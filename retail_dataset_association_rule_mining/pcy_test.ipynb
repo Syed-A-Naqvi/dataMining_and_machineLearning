{
 "cells": [
  {
   "cell_type": "code",
   "execution_count": 1,
   "metadata": {},
   "outputs": [],
   "source": [
    "import itertools as it\n",
    "from collections import defaultdict\n",
    "import numpy as np\n",
    "\n",
    "def hash_function(pair, num_buckets):\n",
    "    i, j = pair\n",
    "    hash_value = ((i * num_buckets) + j) % num_buckets\n",
    "    return hash_value"
   ]
  },
  {
   "cell_type": "code",
   "execution_count": 2,
   "metadata": {},
   "outputs": [],
   "source": [
    "with open(\"./retail.csv\") as file:\n",
    "    baskets = file.readlines()\n",
    "\n",
    "transactions = [[int(item) for item in basket.strip().split(' ')] for basket in baskets]\n",
    "\n",
    "NUM_BUCKETS = 10000000\n",
    "SUPPORT = round(0.01*len(transactions))\n",
    "frequent_items = []"
   ]
  },
  {
   "cell_type": "code",
   "execution_count": 3,
   "metadata": {},
   "outputs": [],
   "source": [
    "# Pass 1: counting singletons and hashing pairs to buckets\n",
    "    # each pair will be sorted in order to maintain consistent hashing for out of order pairs\n",
    "C1 = defaultdict(int)\n",
    "buckets = np.zeros(10000000)\n",
    "\n",
    "for basket in transactions:\n",
    "    for i in basket:\n",
    "        C1[i] += 1\n",
    "    \n",
    "    for p in it.combinations(basket,2):\n",
    "        buckets[hash_function(sorted(p),NUM_BUCKETS)] += 1"
   ]
  },
  {
   "cell_type": "code",
   "execution_count": 4,
   "metadata": {},
   "outputs": [],
   "source": [
    "# Pruning C1 to create L1 for singletons\n",
    "# converting buckets to a bit-vector\n",
    "\n",
    "items = tuple(C1)\n",
    "for i in items:\n",
    "    if C1[i] < SUPPORT:\n",
    "        del C1[i]\n",
    "# L1 is mapping of frequent singletons frequent singletons\n",
    "L1 = C1\n",
    "for i in L1:\n",
    "    frequent_items.append(list(i))\n",
    "\n",
    "# converting buckets to a bit vector\n",
    "for x in range(len(buckets)):\n",
    "    if buckets[x] < SUPPORT:\n",
    "        buckets[x] = 0\n",
    "    else:\n",
    "        buckets[x] = 1"
   ]
  },
  {
   "cell_type": "code",
   "execution_count": 5,
   "metadata": {},
   "outputs": [],
   "source": [
    "# Pass 2: Generating C2 using L1 and bit vector to reduce candidate pair list\n",
    "C2 = defaultdict(int)\n",
    "for basket in transactions:\n",
    "    for p in it.combinations(basket,2):\n",
    "        p = tuple(sorted(p))\n",
    "        bucket_num = hash_function(p, NUM_BUCKETS)\n",
    "        if( (p[0] in L1) and (p[1] in L1) and (buckets[bucket_num] == 1)):\n",
    "            C2[p] += 1"
   ]
  },
  {
   "cell_type": "code",
   "execution_count": 6,
   "metadata": {},
   "outputs": [],
   "source": [
    "# pruning infrequent item pairs\n",
    "pairs = tuple(C2)\n",
    "for p in pairs:\n",
    "    if C2[p] < SUPPORT:\n",
    "        del C2[p]\n",
    "L2 = C2\n",
    "for p in L2:\n",
    "    frequent_items.append(list(p))\n"
   ]
  }
 ],
 "metadata": {
  "kernelspec": {
   "display_name": "base",
   "language": "python",
   "name": "python3"
  },
  "language_info": {
   "codemirror_mode": {
    "name": "ipython",
    "version": 3
   },
   "file_extension": ".py",
   "mimetype": "text/x-python",
   "name": "python",
   "nbconvert_exporter": "python",
   "pygments_lexer": "ipython3",
   "version": "3.11.4"
  }
 },
 "nbformat": 4,
 "nbformat_minor": 2
}
